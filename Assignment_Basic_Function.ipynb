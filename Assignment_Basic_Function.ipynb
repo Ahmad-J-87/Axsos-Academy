{
  "nbformat": 4,
  "nbformat_minor": 0,
  "metadata": {
    "colab": {
      "provenance": [],
      "authorship_tag": "ABX9TyMMM1UDbRHYplFMf15UO2/Z",
      "include_colab_link": true
    },
    "kernelspec": {
      "name": "python3",
      "display_name": "Python 3"
    },
    "language_info": {
      "name": "python"
    }
  },
  "cells": [
    {
      "cell_type": "markdown",
      "metadata": {
        "id": "view-in-github",
        "colab_type": "text"
      },
      "source": [
        "<a href=\"https://colab.research.google.com/github/Ahmad-J-87/Axsos-Academy/blob/Data-Science-Prebootcamp/Assignment_Basic_Function.ipynb\" target=\"_parent\"><img src=\"https://colab.research.google.com/assets/colab-badge.svg\" alt=\"Open In Colab\"/></a>"
      ]
    },
    {
      "cell_type": "code",
      "execution_count": null,
      "metadata": {
        "colab": {
          "base_uri": "https://localhost:8080/"
        },
        "id": "ah0mzBLOK0Zh",
        "outputId": "4a992a7c-a93c-4c7e-e1ed-0cec630aaa20"
      },
      "outputs": [
        {
          "output_type": "stream",
          "name": "stdout",
          "text": [
            "140\n"
          ]
        }
      ],
      "source": [
        "def add(a,b):\n",
        "  x=a+b\n",
        "  return x\n",
        "\n",
        "  x=88+52\n",
        "  return x\n",
        "result = add(88,52)\n",
        "print (result)"
      ]
    },
    {
      "cell_type": "code",
      "source": [
        "new_val= add(90,87)\n",
        "print(new_val)"
      ],
      "metadata": {
        "colab": {
          "base_uri": "https://localhost:8080/"
        },
        "id": "wgyk6q2bho2_",
        "outputId": "108a5c6d-b9e9-4f90-8eb1-cb63a7bd05a4"
      },
      "execution_count": null,
      "outputs": [
        {
          "output_type": "stream",
          "name": "stdout",
          "text": [
            "177\n"
          ]
        }
      ]
    },
    {
      "cell_type": "code",
      "source": [
        "def say_hi(name):\n",
        "  print(\"hi,\"+ name)\n",
        "  print(name)\n",
        "say_hi(\"Ahmad\")"
      ],
      "metadata": {
        "colab": {
          "base_uri": "https://localhost:8080/"
        },
        "id": "zJslag6-hzM3",
        "outputId": "334737d8-4876-4333-a16e-4410f665a3b1"
      },
      "execution_count": null,
      "outputs": [
        {
          "output_type": "stream",
          "name": "stdout",
          "text": [
            "hi,Ahmad\n",
            "Ahmad\n"
          ]
        }
      ]
    },
    {
      "cell_type": "code",
      "source": [
        "def say_hi(name):\n",
        "    print(\"hi,\" + name)\n",
        "    print(name)\n",
        "say_hi(\"Ahmad\")\n"
      ],
      "metadata": {
        "colab": {
          "base_uri": "https://localhost:8080/"
        },
        "id": "M3qNRhiLi828",
        "outputId": "aab0d802-42f5-4b9b-ee61-b72623768272"
      },
      "execution_count": null,
      "outputs": [
        {
          "output_type": "stream",
          "name": "stdout",
          "text": [
            "hi,Ahmad\n",
            "Ahmad\n"
          ]
        }
      ]
    },
    {
      "cell_type": "code",
      "source": [
        "def say_hi (name):\n",
        "  print(\"hi,\" + name)\n",
        "  print(name)\n",
        "\n",
        "\n",
        "\n",
        "say_hi(\"Ahmad\")"
      ],
      "metadata": {
        "colab": {
          "base_uri": "https://localhost:8080/"
        },
        "id": "iotgdZLajbG4",
        "outputId": "e89c8ce8-7fbb-43e1-a80c-00393e47e849"
      },
      "execution_count": null,
      "outputs": [
        {
          "output_type": "stream",
          "name": "stdout",
          "text": [
            "hi,Ahmad\n",
            "Ahmad\n"
          ]
        }
      ]
    },
    {
      "cell_type": "code",
      "source": [
        "def say_hi(name):\n",
        "   return \"hi\" + name\n",
        "greeting = say_hi(\"Ahmad\")\n",
        "print(greeting)"
      ],
      "metadata": {
        "colab": {
          "base_uri": "https://localhost:8080/"
        },
        "id": "xJjKGcsTkQ4o",
        "outputId": "ba89a9d1-3d68-4a6a-e423-96edcf03710f"
      },
      "execution_count": null,
      "outputs": [
        {
          "output_type": "stream",
          "name": "stdout",
          "text": [
            "hiAhmad\n"
          ]
        }
      ]
    },
    {
      "cell_type": "code",
      "source": [
        "def add(a,b):\n",
        "  x = a + b\n",
        "  return x\n",
        "\n",
        "sum1 = add(4, 6)\n",
        "sum2 = add(1, 4)\n",
        "sum3 = sum1 + sum2\n",
        "print(sum1)\n",
        "print(sum3)\n"
      ],
      "metadata": {
        "colab": {
          "base_uri": "https://localhost:8080/"
        },
        "id": "60JOvO5Glkq0",
        "outputId": "a567d1eb-0d63-4e54-97c8-a6eeb1ee029c"
      },
      "execution_count": null,
      "outputs": [
        {
          "output_type": "stream",
          "name": "stdout",
          "text": [
            "10\n",
            "15\n"
          ]
        }
      ]
    },
    {
      "cell_type": "code",
      "source": [
        "def countdown (num):\n",
        "  new_list = []\n",
        "  for i in range (num, -1 , -1):\n",
        "    new_list.append (i)\n",
        "  return new_list\n",
        "print(countdown(5))\n",
        "print(countdown(10))"
      ],
      "metadata": {
        "colab": {
          "base_uri": "https://localhost:8080/"
        },
        "id": "nBS5CWhInRuF",
        "outputId": "73f7c0c5-0d54-4836-e2bf-c206fbd8fadf"
      },
      "execution_count": null,
      "outputs": [
        {
          "output_type": "stream",
          "name": "stdout",
          "text": [
            "[5, 4, 3, 2, 1, 0]\n",
            "[10, 9, 8, 7, 6, 5, 4, 3, 2, 1, 0]\n"
          ]
        }
      ]
    },
    {
      "cell_type": "code",
      "source": [
        "def countup (num):\n",
        "  return list(range(num, 100,10))\n",
        "print(countup(9))\n"
      ],
      "metadata": {
        "colab": {
          "base_uri": "https://localhost:8080/"
        },
        "id": "WGxuhBAcp1MV",
        "outputId": "6179f4bd-4672-4fcd-fb11-fa546b6fd0c6"
      },
      "execution_count": null,
      "outputs": [
        {
          "output_type": "stream",
          "name": "stdout",
          "text": [
            "[9, 19, 29, 39, 49, 59, 69, 79, 89, 99]\n"
          ]
        }
      ]
    },
    {
      "cell_type": "code",
      "source": [],
      "metadata": {
        "id": "cZ7-r9Hcq1it"
      },
      "execution_count": null,
      "outputs": []
    }
  ]
}